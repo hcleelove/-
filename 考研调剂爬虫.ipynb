{
 "cells": [
  {
   "cell_type": "code",
   "execution_count": 119,
   "id": "ac2d2db7",
   "metadata": {},
   "outputs": [],
   "source": [
    "import os\n",
    "os.environ['http_proxy'] = 'http://127.0.0.1:10809'\n",
    "os.environ['https_proxy'] = 'http://127.0.0.1:10809'"
   ]
  },
  {
   "cell_type": "code",
   "execution_count": null,
   "id": "851add97",
   "metadata": {},
   "outputs": [],
   "source": []
  },
  {
   "cell_type": "code",
   "execution_count": null,
   "id": "6fd953bd",
   "metadata": {
    "scrolled": true
   },
   "outputs": [],
   "source": []
  },
  {
   "cell_type": "code",
   "execution_count": 127,
   "id": "9bcc2ba0",
   "metadata": {},
   "outputs": [
    {
     "name": "stdout",
     "output_type": "stream",
     "text": [
      "200\n"
     ]
    }
   ],
   "source": [
    "import requests\n",
    "\n",
    "#url = 'https://gs.sustech.edu.cn/#/admission/common?current_child_id=88&id=120'\n",
    "#url='https://ge.sues.edu.cn/19709/list.htm'\n",
    "#url='https://yjsc.haust.edu.cn/yjsyxwtz/tzgg.htm'\n",
    "#url='https://ci.hfut.edu.cn/tz/list.htm'\n",
    "url='https://grs.ctbu.edu.cn/zsgl/10.htm'\n",
    "headers = {\n",
    "    \"User-Agent\": \"Mozilla/5.0 (Windows NT 10.0; Win64; x64) AppleWebKit/537.36 (KHTML, like Gecko) Chrome/96.0.4664.110 Safari/537.36\",\n",
    "    \"Accept\": \"text/html,application/xhtml+xml,application/xml;q=0.9,image/avif,image/webp,image/apng,*/*;q=0.8,application/signed-exchange;v=b3;q=0.9\",\n",
    "    \"Accept-Language\": \"zh-CN,zh;q=0.9,en-US;q=0.8,en;q=0.7\"\n",
    "}\n",
    "response = requests.get(url, headers=headers)\n",
    "response.encoding=\"utf-8\"\n",
    "content = response.text\n",
    "print(response.status_code)"
   ]
  },
  {
   "cell_type": "code",
   "execution_count": null,
   "id": "93469f58",
   "metadata": {},
   "outputs": [],
   "source": []
  },
  {
   "cell_type": "code",
   "execution_count": 128,
   "id": "aab6ea7c",
   "metadata": {},
   "outputs": [],
   "source": [
    "#print(content)"
   ]
  },
  {
   "cell_type": "code",
   "execution_count": 129,
   "id": "e03d73b5",
   "metadata": {},
   "outputs": [
    {
     "name": "stdout",
     "output_type": "stream",
     "text": [
      "招生管理-重庆工商大学研究生院\n"
     ]
    }
   ],
   "source": [
    "from bs4 import BeautifulSoup\n",
    "\n",
    "soup = BeautifulSoup(content, 'html.parser')\n",
    "text = soup.get_text()\n",
    "title_element = soup.title \n",
    "    # 使用soup.title属性或soup.find(\"title\")方法获取网页的标题元素\n",
    "title_text = title_element.text\n",
    "    # 使用title_element.text属性或title_element.string属性获取标题元素的文本内容\n",
    "print(title_text)"
   ]
  },
  {
   "cell_type": "code",
   "execution_count": null,
   "id": "296018e4",
   "metadata": {},
   "outputs": [],
   "source": []
  },
  {
   "cell_type": "code",
   "execution_count": 130,
   "id": "bcbf6627",
   "metadata": {},
   "outputs": [
    {
     "name": "stdout",
     "output_type": "stream",
     "text": [
      "重庆工商大学2022年硕士研究生招生调剂公告\n"
     ]
    }
   ],
   "source": [
    "sentences = text.splitlines()\n",
    "# 遍历句子列表\n",
    "for sentence in sentences:\n",
    "    # 用in运算符判断句子是否包含\"调剂\"这个字符串\n",
    "    if \"调剂\" in sentence:\n",
    "        # 输出该句子\n",
    "        print(sentence)"
   ]
  },
  {
   "cell_type": "code",
   "execution_count": 131,
   "id": "894438b5",
   "metadata": {},
   "outputs": [],
   "source": [
    "output=\"\"\n",
    "sentences = text.splitlines()\n",
    "# 遍历句子列表\n",
    "for sentence in sentences:\n",
    "    # 用len()方法获取句子的长度（字数）\n",
    "    length = len(sentence)\n",
    "    # 如果长度大于5，说明句子长度大于5个字\n",
    "    if length > 9:\n",
    "        # 输出句子\n",
    "        output += sentence + \"\\n\"\n",
    "        #print(sentence)"
   ]
  },
  {
   "cell_type": "code",
   "execution_count": 132,
   "id": "fc28110c",
   "metadata": {},
   "outputs": [
    {
     "name": "stdout",
     "output_type": "stream",
     "text": [
      " 招生管理-重庆工商大学研究生院\n",
      "研究生教育发展质量年度报告\n",
      "学位授权点建设年度报告\n",
      "翠湖智办  办公服务\n",
      "研究生教育发展质量年度报告\n",
      "学位授权点建设年度报告\n",
      "                >>\n",
      "                招生管理\n",
      "2022-05-05\n",
      "关于公布重庆工商大学2022年博士研究生招生复试考生名单的通知\n"
     ]
    }
   ],
   "source": [
    "# 用切片操作符获取列表的前8个元素\n",
    "output = output.splitlines()\n",
    "output2 = output[:10]\n",
    "# 用print()函数输出这些元素，用换行符\"\\n\"分隔\n",
    "print(\"\\n\".join(output2))\n",
    "#print(output)"
   ]
  },
  {
   "cell_type": "code",
   "execution_count": 133,
   "id": "9097cc66",
   "metadata": {},
   "outputs": [
    {
     "name": "stdout",
     "output_type": "stream",
     "text": [
      "[' 招生管理-重庆工商大学研究生院', '研究生教育发展质量年度报告', '学位授权点建设年度报告', '翠湖智办  办公服务', '研究生教育发展质量年度报告', '学位授权点建设年度报告', '                >>', '                招生管理', '2022-05-05', '关于公布重庆工商大学2022年博士研究生招生复试考生名单的通知']\n"
     ]
    }
   ],
   "source": [
    "print(output2)"
   ]
  },
  {
   "cell_type": "code",
   "execution_count": 90,
   "id": "e66bfd9f",
   "metadata": {},
   "outputs": [],
   "source": [
    "#print(sentences)"
   ]
  },
  {
   "cell_type": "code",
   "execution_count": null,
   "id": "0a26b7e0",
   "metadata": {},
   "outputs": [],
   "source": []
  }
 ],
 "metadata": {
  "kernelspec": {
   "display_name": "Python 3 (ipykernel)",
   "language": "python",
   "name": "python3"
  },
  "language_info": {
   "codemirror_mode": {
    "name": "ipython",
    "version": 3
   },
   "file_extension": ".py",
   "mimetype": "text/x-python",
   "name": "python",
   "nbconvert_exporter": "python",
   "pygments_lexer": "ipython3",
   "version": "3.9.7"
  }
 },
 "nbformat": 4,
 "nbformat_minor": 5
}
