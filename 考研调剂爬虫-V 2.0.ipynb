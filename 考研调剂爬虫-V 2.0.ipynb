{
 "cells": [
  {
   "cell_type": "code",
   "execution_count": 1,
   "id": "c204b7c0",
   "metadata": {},
   "outputs": [],
   "source": [
    "import requests\n",
    "from bs4 import BeautifulSoup\n",
    "import os\n",
    "os.environ['http_proxy'] = 'http://127.0.0.1:10809'\n",
    "os.environ['https_proxy'] = 'http://127.0.0.1:10809'"
   ]
  },
  {
   "cell_type": "code",
   "execution_count": 2,
   "id": "db536681",
   "metadata": {},
   "outputs": [],
   "source": [
    "def tiaoJ(url):\n",
    "  \n",
    "\n",
    "    #url = 'https://gs.sustech.edu.cn/#/admission/common?current_child_id=88&id=120'\n",
    "    #url='https://ge.sues.edu.cn/19709/list.htm'\n",
    "    #url='https://yjsc.haust.edu.cn/yjsyxwtz/tzgg.htm'\n",
    "    #url='https://ci.hfut.edu.cn/tz/list.htm'\n",
    "    url=url\n",
    "    headers = {\n",
    "    \"User-Agent\": \"Mozilla/5.0 (Windows NT 10.0; Win64; x64) AppleWebKit/537.36 (KHTML, like Gecko) Chrome/96.0.4664.110 Safari/537.36\",\n",
    "    \"Accept\": \"text/html,application/xhtml+xml,application/xml;q=0.9,image/avif,image/webp,image/apng,*/*;q=0.8,application/signed-exchange;v=b3;q=0.9\",\n",
    "    \"Accept-Language\": \"zh-CN,zh;q=0.9,en-US;q=0.8,en;q=0.7\"\n",
    "    }\n",
    "    response = requests.get(url, headers=headers)\n",
    "    response.encoding=\"utf-8\"\n",
    "    content = response.text\n",
    "    \n",
    "    soup = BeautifulSoup(content, 'html.parser')\n",
    "    text = soup.get_text()\n",
    "    \n",
    "    sentences = text.splitlines()#分行\n",
    "    # 遍历句子列表\n",
    "    for sentence in sentences:\n",
    "        # 用in运算符判断句子是否包含\"调剂\"这个字符串\n",
    "        if \"调剂\" in sentence:\n",
    "            # 输出该句子\n",
    "            print(sentence)\n",
    "    print(url)\n",
    "    print(\"********\")\n",
    "    "
   ]
  },
  {
   "cell_type": "code",
   "execution_count": 3,
   "id": "fbbfe2d9",
   "metadata": {},
   "outputs": [
    {
     "name": "stdout",
     "output_type": "stream",
     "text": [
      "光电学院2022年调剂系统开放时间备案表（一）\n",
      "2022年硕士研究生招生调剂公告\n",
      "https://paee.fjnu.edu.cn/3131/list.htm\n",
      "********\n",
      "上海工程技术大学2023年MBA、MPA招生调剂考生意向采集\n",
      "上海工程技术大学2023年硕士研究生招生调剂公告\n",
      "上海工程技术大学2022年硕士研究生招生调剂公告\n",
      "2023年全国研究生招生调剂现场咨询会场次安排（更新）\n",
      "https://ge.sues.edu.cn/19709/list.htm\n",
      "********\n",
      "上海应用技术大学2023年硕士研究生招生考试调剂信息 \n",
      "https://gs.sit.edu.cn/5706/list.htm\n",
      "********\n",
      "温州大学2022年硕士研究生招生调剂考生复试安排2022-03-31\n",
      "温州大学2022年硕士研究生招生调剂预告2022-03-28\n",
      "http://yjsb.wzu.edu.cn/zsw/sszsdt.htm\n",
      "********\n",
      "重庆工商大学2022年硕士研究生招生调剂公告\n",
      "https://grs.ctbu.edu.cn/zsgl/10.htm\n",
      "********\n",
      "调剂信息-广药研究生学院\n",
      "调剂信息\n",
      "调剂信息\n",
      "广东药科大学2022年各学院硕士研究生招生调剂公告\n",
      "https://yjsxy.gdpu.edu.cn/zsgz/djxx.htm\n",
      "********\n",
      "        重点实验室2022年硕士研究生调剂复试成绩\n",
      "        重点实验室2022年研究生调剂复试（第一轮）名单\n",
      "        重点实验室 2022年硕士研究生调剂信息公告（二）\n",
      "        重点实验室 2022年硕士研究生调剂信息公告（一）\n",
      "https://ics.gznu.edu.cn/\n",
      "********\n"
     ]
    }
   ],
   "source": [
    "tiaoJ(\"https://paee.fjnu.edu.cn/3131/list.htm\")\n",
    "tiaoJ(\"https://ge.sues.edu.cn/19709/list.htm\")\n",
    "tiaoJ(\"https://gs.sit.edu.cn/5706/list.htm\")\n",
    "tiaoJ(\"http://yjsb.wzu.edu.cn/zsw/sszsdt.htm\")\n",
    "tiaoJ(\"https://grs.ctbu.edu.cn/zsgl/10.htm\")\n",
    "tiaoJ(\"https://yjsxy.gdpu.edu.cn/zsgz/djxx.htm\")\n",
    "tiaoJ(\"https://ics.gznu.edu.cn/\")"
   ]
  },
  {
   "cell_type": "code",
   "execution_count": null,
   "id": "bbc151e5",
   "metadata": {},
   "outputs": [],
   "source": []
  },
  {
   "cell_type": "code",
   "execution_count": null,
   "id": "4291e84c",
   "metadata": {},
   "outputs": [],
   "source": []
  },
  {
   "cell_type": "code",
   "execution_count": null,
   "id": "36ba4a19",
   "metadata": {},
   "outputs": [],
   "source": []
  },
  {
   "cell_type": "code",
   "execution_count": null,
   "id": "96569645",
   "metadata": {},
   "outputs": [],
   "source": []
  }
 ],
 "metadata": {
  "kernelspec": {
   "display_name": "Python 3 (ipykernel)",
   "language": "python",
   "name": "python3"
  },
  "language_info": {
   "codemirror_mode": {
    "name": "ipython",
    "version": 3
   },
   "file_extension": ".py",
   "mimetype": "text/x-python",
   "name": "python",
   "nbconvert_exporter": "python",
   "pygments_lexer": "ipython3",
   "version": "3.9.7"
  }
 },
 "nbformat": 4,
 "nbformat_minor": 5
}
